{
 "cells": [
  {
   "cell_type": "markdown",
   "metadata": {},
   "source": [
    "# KNN\n",
    "## Modelo de Clasificación"
   ]
  },
  {
   "cell_type": "code",
   "execution_count": 2,
   "metadata": {},
   "outputs": [],
   "source": [
    "import numpy as np\n",
    "import pandas as pd\n",
    "import matplotlib.pyplot as plt\n",
    "import seaborn as sns\n",
    "from sklearn import datasets\n",
    "from sklearn.model_selection import train_test_split, cross_val_score\n",
    "from sklearn.preprocessing import StandardScaler\n",
    "from sklearn.neighbors import KNeighborsClassifier\n",
    "from sklearn.metrics import confusion_matrix, classification_report, accuracy_score\n",
    "from sklearn.preprocessing import LabelEncoder\n",
    "from sklearn.impute import SimpleImputer"
   ]
  },
  {
   "cell_type": "markdown",
   "metadata": {},
   "source": [
    "## Obtención de datos"
   ]
  },
  {
   "cell_type": "code",
   "execution_count": 3,
   "metadata": {},
   "outputs": [
    {
     "name": "stdout",
     "output_type": "stream",
     "text": [
      "Tercil 1 (33.33%): $139,699\n",
      "Tercil 2 (66.67%): $190,000\n"
     ]
    }
   ],
   "source": [
    "# 1. Cargar los datos\n",
    "df = pd.read_csv('../../train.csv')\n",
    "\n",
    "# 2. Crear la variable de respuesta categórica basada en los terciles del precio de venta\n",
    "tercil_1 = df['SalePrice'].quantile(1/3)\n",
    "tercil_2 = df['SalePrice'].quantile(2/3)\n",
    "\n",
    "# Crear la categoría de precio\n",
    "df['PriceCategory'] = pd.cut(\n",
    "    df['SalePrice'], \n",
    "    bins=[0, tercil_1, tercil_2, float('inf')], \n",
    "    labels=['Económica', 'Intermedia', 'Cara']\n",
    ")\n",
    "\n",
    "print(f\"Tercil 1 (33.33%): ${int(tercil_1):,}\")\n",
    "print(f\"Tercil 2 (66.67%): ${int(tercil_2):,}\")\n",
    "\n",
    "# 3. Seleccionar las características para el modelo\n",
    "selected_features = [\n",
    "    'OverallQual',    # Calidad general\n",
    "    'GrLivArea',      # Área habitable\n",
    "    'GarageCars',     # Capacidad del garaje\n",
    "    'YearBuilt',      # Año de construcción\n",
    "    'TotalBsmtSF',    # Superficie total del sótano\n",
    "    'FullBath',       # Baños completos\n",
    "    'Neighborhood',   # Vecindario (categórica)\n",
    "    'ExterQual',      # Calidad del exterior (categórica)\n",
    "    'KitchenQual',    # Calidad de la cocina (categórica)\n",
    "    'BsmtQual'        # Calidad del sótano (categórica)\n",
    "]\n",
    "\n",
    "# 4. Preparar los datos\n",
    "X = df[selected_features].copy()\n",
    "y = df['PriceCategory']\n",
    "\n",
    "# Manejar valores faltantes en características numéricas\n",
    "numeric_features = X.select_dtypes(include=['int64', 'float64']).columns\n",
    "imputer = SimpleImputer(strategy='median')\n",
    "X[numeric_features] = imputer.fit_transform(X[numeric_features])\n",
    "\n",
    "# Manejar valores faltantes en características categóricas\n",
    "categorical_features = X.select_dtypes(include=['object']).columns\n",
    "X[categorical_features] = X[categorical_features].fillna('None')\n",
    "\n",
    "# Codificar variables categóricas\n",
    "encoders = {}\n",
    "for feature in categorical_features:\n",
    "    le = LabelEncoder()\n",
    "    X[feature] = le.fit_transform(X[feature])\n",
    "    encoders[feature] = le\n",
    "\n",
    "# 5. Dividir los datos en conjunto de entrenamiento y prueba\n",
    "X_train, X_test, y_train, y_test = train_test_split(\n",
    "    X, y, test_size=0.3, random_state=42, stratify=y\n",
    ")"
   ]
  },
  {
   "cell_type": "markdown",
   "metadata": {},
   "source": [
    "## Modelo"
   ]
  },
  {
   "cell_type": "code",
   "execution_count": 4,
   "metadata": {},
   "outputs": [],
   "source": [
    "knn = KNeighborsClassifier()\n",
    "knn.fit(X_train, y_train)\n",
    "\n",
    "y_pred = knn.predict(X_test)"
   ]
  },
  {
   "cell_type": "markdown",
   "metadata": {},
   "source": [
    "## Medición de eficiencia"
   ]
  },
  {
   "cell_type": "code",
   "execution_count": null,
   "metadata": {},
   "outputs": [
    {
     "name": "stdout",
     "output_type": "stream",
     "text": [
      "Matriz de Confusión:\n",
      "[[122   2  21]\n",
      " [  7 105  34]\n",
      " [ 28  32  87]]\n",
      "\n",
      " Reporte de Clasificación:\n",
      "              precision    recall  f1-score   support\n",
      "\n",
      "        Cara       0.78      0.84      0.81       145\n",
      "   Económica       0.76      0.72      0.74       146\n",
      "  Intermedia       0.61      0.59      0.60       147\n",
      "\n",
      "    accuracy                           0.72       438\n",
      "   macro avg       0.72      0.72      0.72       438\n",
      "weighted avg       0.71      0.72      0.72       438\n",
      "\n",
      "Precisión del modelo: 0.72\n"
     ]
    }
   ],
   "source": [
    "# Matriz de confusión\n",
    "conf_matrix = confusion_matrix(y_test, y_pred)\n",
    "print(\"Matriz de Confusión:\")\n",
    "print(conf_matrix)\n",
    "\n",
    "# Reporte de clasificación\n",
    "print(\"\\n\\n Reporte de Clasificación:\")\n",
    "print(classification_report(y_test, y_pred))\n",
    "\n",
    "# Precisión del modelo\n",
    "accuracy = accuracy_score(y_test, y_pred)\n",
    "print(f\"\\n\\nPrecisión del modelo: {accuracy:.2f}\")"
   ]
  }
 ],
 "metadata": {
  "kernelspec": {
   "display_name": ".venv",
   "language": "python",
   "name": "python3"
  },
  "language_info": {
   "codemirror_mode": {
    "name": "ipython",
    "version": 3
   },
   "file_extension": ".py",
   "mimetype": "text/x-python",
   "name": "python",
   "nbconvert_exporter": "python",
   "pygments_lexer": "ipython3",
   "version": "3.12.5"
  }
 },
 "nbformat": 4,
 "nbformat_minor": 2
}
